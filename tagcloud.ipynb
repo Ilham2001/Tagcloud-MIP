{
  "cells": [
    {
      "cell_type": "code",
      "execution_count": null,
      "metadata": {
        "colab": {
          "base_uri": "https://localhost:8080/",
          "height": 646
        },
        "id": "wdbJkSDIqPpO",
        "outputId": "63d226a7-6ad4-4c52-b872-9b2075f474a8"
      },
      "outputs": [],
      "source": [
        "import pandas as pd \n",
        "import matplotlib as mpl\n",
        "import matplotlib.pyplot as plt\n",
        "%matplotlib inline\n",
        "from wordcloud import WordCloud\n",
        "\n",
        "mpl.rcParams['font.size']=12 \n",
        "mpl.rcParams['savefig.dpi']=100 \n",
        "mpl.rcParams['figure.subplot.bottom']=.1 \n",
        "\n",
        "\n",
        "stp_words= ['elle', 'il', '10ème', '1er', '1ère', '2ème', '3ème', '4ème', '5ème', '6ème', '7ème', '8ème', '9ème', 'a', 'à','afin', 'ai', 'ainsi', 'ais', 'ait', 'alors', 'après', 'as', 'assez', 'au', 'aucun', 'aucune', 'auprès', 'auquel',\n",
        "'auquelles', 'auquels', 'auraient', 'aurais', 'aurait', 'aurez', 'auriez', 'aurions', 'aurons', 'auront','aussi', 'aussitôt', 'autre', 'autres', 'aux', 'avaient', 'avais', 'avait', 'avant', 'avec', 'avez', 'aviez', 'avoir',\n",
        "'avons', 'ayant', 'beaucoup', 'car', 'ceci', 'cela', 'celle', 'celles', 'celui', 'cependant', 'certes', 'ces', 'cet', 'cette', 'ceux', 'chacun', 'chacune', 'chaque', 'chez', 'cinq', 'comme', 'd\\'abord', 'dans', 'dehors', 'delà', 'depuis',\n",
        "        'des', 'dessous', 'dessus', 'deux', 'deça', 'dix', 'doit', 'donc', 'dont', 'durant', 'dès', 'déjà', 'elle', 'où', 'ou', 'elles', 'encore', 'enfin', 'entre', 'est', 'est-ce',        'etc', 'eurent', 'eut', 'faut', 'fur', 'hormis', 'hors',\n",
        "        'huit', 'ils', 'laquelle', 'lequel', 'les', 'lesquels', 'leur', 'leurs', 'lors', 'lorsque', 'lui', 'mais', 'malgré', 'melle',        'mes', 'moi', 'moins', 'mon', 'même', 'mêmes', 'neuf', 'non', 'nos', 'notamment', 'notre',\n",
        "        'nous', 'néanmoins', 'nôtres', 'ont', 'par', 'parce', 'parfois', 'parmi', 'partout', 'pas', 'pendant','peu', 'peut', 'peut-être', 'plus', 'plutôt', 'pour', 'pourquoi', 'près', 'puisqu', 'puisque', 'quand', 'quant', 'quatre', 'que', 'quel', 'quelle',\n",
        "        'quelles', 'quelqu', 'quelque', 'quelquefois', 'quelques', 'le', 'la', 'du', 'de', 'en', 'et', 'quels', 'qui', 'quoi', 'quot',        'sans',        'sept',        'sera',        'serai',        'seraient',        'serais',\n",
        "        'serait', 'seras', 'serez',        'seriez','serions', 'serons', 'seront', 'ses', 'sien', 'siennes', 'siens','sitôt',        'six',\n",
        "        'soi', 'sommes', 'son','sont','sous','souvent', 'suis', 'sur',        'toi', 'ton', 'toujours', 'tous',        'tout', 'toutefois',        'toutes',        'une',\n",
        "        'unes', 'uns', 'voici','voilà','vos','votre',        'vous',        'vôtres',        'ème',        'étaient', 'étais', 'était', 'étant','étiez',        'étions',   'êtes',        'être',        'afin',        'ainsi',        'alors',\n",
        "        'après', 'aucun', 'aucune','auprès','auquel',        'aussi',        'autant',        'aux',        'avec',        'car',\n",
        "        'ceci', 'cela', 'celle', 'celles', 'celui',        'cependant',        'ces',        'cet',        'cette',        'ceux',        'chacun',        'chacune','chaque',\n",
        "        'chez', 'comme', 'comment', 'dans', 'des',        'donc',        'donné',        'dont',        'duquel',        'dès',        'déjà',        'elle',\n",
        "        'elles', 'encore', 'entre', 'étant', 'etc', 'été',        'eux',        'furent',        'grâce', 'hors', 'ici', 'ils',  'jusqu', 'les',        'leur',        'leurs',        'lors',        'lui',\n",
        "        'malgré', 'mes', 'mien', 'mienne', 'miennes', 'miens',        'moins',        'moment',        'mon',        'même',        'mêmes', 'non', 'nos',  'notre', 'notres', 'nous', 'notre', 'oui', 'par',        'parce',\n",
        "        'parmi', 'plus', 'pour', 'près', 'puis', 'puisque', 'quand', 'quant',        'que', 'quel', 'quelle', 'quelque', 'quelqu', 'quelques', 'quels', 'qui', 'quoi', 'sans',\n",
        "        'sauf', 'selon', 'ses', 'sien', 'sienne', 'siennes', 'siens', 'ça', 'soi', 'soit', 'sont', 'sous', 'suis', 'sur', 'tandis',        'tant', 'tes', 'tienne', 'tiennes', 'tiens', 'toi', 'ton', 'tous', 'tout', 'toute', 'toutes',  'trop',\n",
        "        'très', 'une', 'vos', 'votre', 'vous', 'étaient', 'était', 'étant', 'être' ,'name', 'length', 'dtype', 'on', 'tu', 'ce', 'nan']\n",
        "\n",
        "data = pd.read_csv(\"MetaData_faculté,_rencontre,_isolement.csv\", error_bad_lines=False)\n",
        "\n",
        "wordcloud = WordCloud(\n",
        "                          background_color='white',\n",
        "                          stopwords=stp_words,\n",
        "                          max_words=200,\n",
        "                          max_font_size=50, \n",
        "                          random_state=42\n",
        "                         ).generate(str(data['Titre']) + str(data['Description']))\n",
        "\n",
        "print(wordcloud)\n",
        "fig = plt.figure( figsize=(20,10) )\n",
        "\n",
        "plt.imshow(wordcloud)\n",
        "plt.axis('off')\n",
        "plt.show()"
      ]
    }
  ],
  "metadata": {
    "colab": {
      "provenance": []
    },
    "kernelspec": {
      "display_name": "Python 3.10.3 64-bit",
      "language": "python",
      "name": "python3"
    },
    "language_info": {
      "codemirror_mode": {
        "name": "ipython",
        "version": 3
      },
      "file_extension": ".py",
      "mimetype": "text/x-python",
      "name": "python",
      "nbconvert_exporter": "python",
      "pygments_lexer": "ipython3",
      "version": "3.10.3"
    },
    "vscode": {
      "interpreter": {
        "hash": "26de051ba29f2982a8de78e945f0abaf191376122a1563185a90213a26c5da77"
      }
    }
  },
  "nbformat": 4,
  "nbformat_minor": 0
}
